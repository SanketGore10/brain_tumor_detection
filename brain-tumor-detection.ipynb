{
 "cells": [
  {
   "cell_type": "markdown",
   "id": "31a71012",
   "metadata": {
    "papermill": {
     "duration": 0.004649,
     "end_time": "2024-04-16T17:08:59.089215",
     "exception": false,
     "start_time": "2024-04-16T17:08:59.084566",
     "status": "completed"
    },
    "tags": []
   },
   "source": [
    "# import libraries"
   ]
  },
  {
   "cell_type": "code",
   "execution_count": 1,
   "id": "ddcd5b5a",
   "metadata": {
    "_cell_guid": "b1076dfc-b9ad-4769-8c92-a6c4dae69d19",
    "_uuid": "8f2839f25d086af736a60e9eeb907d3b93b6e0e5",
    "execution": {
     "iopub.execute_input": "2024-04-16T17:08:59.099124Z",
     "iopub.status.busy": "2024-04-16T17:08:59.098477Z",
     "iopub.status.idle": "2024-04-16T17:09:12.224388Z",
     "shell.execute_reply": "2024-04-16T17:09:12.223641Z"
    },
    "papermill": {
     "duration": 13.133031,
     "end_time": "2024-04-16T17:09:12.226656",
     "exception": false,
     "start_time": "2024-04-16T17:08:59.093625",
     "status": "completed"
    },
    "tags": []
   },
   "outputs": [
    {
     "name": "stderr",
     "output_type": "stream",
     "text": [
      "/opt/conda/lib/python3.10/site-packages/scipy/__init__.py:146: UserWarning: A NumPy version >=1.16.5 and <1.23.0 is required for this version of SciPy (detected version 1.24.3\n",
      "  warnings.warn(f\"A NumPy version >={np_minversion} and <{np_maxversion}\"\n"
     ]
    }
   ],
   "source": [
    "import os\n",
    "import cv2\n",
    "import numpy as np\n",
    "from sklearn.model_selection import train_test_split\n",
    "from tensorflow.keras.applications import ResNet50\n",
    "from tensorflow.keras.layers import Dense, Flatten, Dropout\n",
    "from keras.layers import Conv2D, MaxPooling2D, Flatten, Dense\n",
    "from tensorflow.keras.models import Model\n",
    "from tensorflow.keras.optimizers import Adam\n",
    "from tensorflow.keras.utils import to_categorical\n",
    "from keras.models import Sequential\n",
    "from flask import Flask, request, jsonify\n",
    "from keras.preprocessing import image\n",
    "from keras.models import load_model\n",
    "from keras.models import save_model"
   ]
  },
  {
   "cell_type": "markdown",
   "id": "5135a8f4",
   "metadata": {
    "papermill": {
     "duration": 0.004382,
     "end_time": "2024-04-16T17:09:12.235660",
     "exception": false,
     "start_time": "2024-04-16T17:09:12.231278",
     "status": "completed"
    },
    "tags": []
   },
   "source": [
    "# process class for dir"
   ]
  },
  {
   "cell_type": "code",
   "execution_count": 2,
   "id": "586384f8",
   "metadata": {
    "execution": {
     "iopub.execute_input": "2024-04-16T17:09:12.245787Z",
     "iopub.status.busy": "2024-04-16T17:09:12.245252Z",
     "iopub.status.idle": "2024-04-16T17:11:16.179084Z",
     "shell.execute_reply": "2024-04-16T17:11:16.178249Z"
    },
    "papermill": {
     "duration": 123.941392,
     "end_time": "2024-04-16T17:11:16.181329",
     "exception": false,
     "start_time": "2024-04-16T17:09:12.239937",
     "status": "completed"
    },
    "tags": []
   },
   "outputs": [
    {
     "name": "stdout",
     "output_type": "stream",
     "text": [
      "Empty line in file: /kaggle/input/medical-image-dataset-brain-tumor-detection/Brain Tumor Detection/train/labels/volume_17_slice_118_jpg.rf.59848b5e32900276089b16eda778dcca.txt\n",
      "Empty line in file: /kaggle/input/medical-image-dataset-brain-tumor-detection/Brain Tumor Detection/train/labels/volume_251_slice_59_jpg.rf.5d403476e7b51ad5aa550cdbe3a7d796.txt\n",
      "Empty line in file: /kaggle/input/medical-image-dataset-brain-tumor-detection/Brain Tumor Detection/train/labels/volume_51_slice_138_jpg.rf.3dd10a466ac2f2e7a762ce4f2a0bfd2c.txt\n",
      "Empty line in file: /kaggle/input/medical-image-dataset-brain-tumor-detection/Brain Tumor Detection/train/labels/volume_22_slice_57_jpg.rf.30e20221893edf3fb8e5de85567c5d27.txt\n",
      "Empty line in file: /kaggle/input/medical-image-dataset-brain-tumor-detection/Brain Tumor Detection/train/labels/volume_232_slice_98_jpg.rf.a9f52374f1363f05c627e39af3f4879a.txt\n",
      "Empty line in file: /kaggle/input/medical-image-dataset-brain-tumor-detection/Brain Tumor Detection/train/labels/volume_103_slice_47_jpg.rf.66f343a46349fe7e9848b866fa3758f4.txt\n",
      "Empty line in file: /kaggle/input/medical-image-dataset-brain-tumor-detection/Brain Tumor Detection/train/labels/volume_215_slice_35_jpg.rf.324f0647ad343f6f59e83e731b0955a4.txt\n",
      "Empty line in file: /kaggle/input/medical-image-dataset-brain-tumor-detection/Brain Tumor Detection/train/labels/volume_173_slice_60_jpg.rf.f09ddd4fdcd33e1588e512803bc00cfb.txt\n",
      "Empty line in file: /kaggle/input/medical-image-dataset-brain-tumor-detection/Brain Tumor Detection/train/labels/volume_239_slice_60_jpg.rf.2a368bc78cf5abe0be94e770b67e555c.txt\n",
      "Empty line in file: /kaggle/input/medical-image-dataset-brain-tumor-detection/Brain Tumor Detection/train/labels/volume_257_slice_48_jpg.rf.7da31174d6b579a9bf3a01312c86cdf5.txt\n",
      "Empty line in file: /kaggle/input/medical-image-dataset-brain-tumor-detection/Brain Tumor Detection/train/labels/volume_217_slice_28_jpg.rf.5c087efa219cdc3bda2cb56290e05466.txt\n",
      "Empty line in file: /kaggle/input/medical-image-dataset-brain-tumor-detection/Brain Tumor Detection/train/labels/volume_52_slice_127_jpg.rf.db22789f22aa493b806166e733e74acb.txt\n",
      "Empty line in file: /kaggle/input/medical-image-dataset-brain-tumor-detection/Brain Tumor Detection/train/labels/volume_225_slice_60_jpg.rf.6cd2231d55c7c9e24df6ac6f075b4902.txt\n",
      "Empty line in file: /kaggle/input/medical-image-dataset-brain-tumor-detection/Brain Tumor Detection/train/labels/volume_358_slice_112_jpg.rf.44b54271c6b5751571870bb28a61fb9a.txt\n",
      "Empty line in file: /kaggle/input/medical-image-dataset-brain-tumor-detection/Brain Tumor Detection/train/labels/volume_106_slice_43_jpg.rf.a48a548f417aa06e5cc82fe5b54621b4.txt\n",
      "Empty line in file: /kaggle/input/medical-image-dataset-brain-tumor-detection/Brain Tumor Detection/train/labels/volume_106_slice_39_jpg.rf.df75e5a2fd201892e7808a78f5426886.txt\n",
      "Empty line in file: /kaggle/input/medical-image-dataset-brain-tumor-detection/Brain Tumor Detection/train/labels/volume_249_slice_73_jpg.rf.d302a42a5a0407be96069a47edfbc750.txt\n",
      "Empty line in file: /kaggle/input/medical-image-dataset-brain-tumor-detection/Brain Tumor Detection/train/labels/volume_191_slice_117_jpg.rf.a2e2ddd2138cea3b376ae2ea78a6810b.txt\n",
      "Empty line in file: /kaggle/input/medical-image-dataset-brain-tumor-detection/Brain Tumor Detection/train/labels/volume_8_slice_71_jpg.rf.9d9deb645928b29392f987eed389258a.txt\n",
      "Empty line in file: /kaggle/input/medical-image-dataset-brain-tumor-detection/Brain Tumor Detection/train/labels/volume_213_slice_85_jpg.rf.00142e91058f3800346c1a44ebd1fcdc.txt\n",
      "Empty line in file: /kaggle/input/medical-image-dataset-brain-tumor-detection/Brain Tumor Detection/train/labels/volume_22_slice_56_jpg.rf.d592155ad386f0f7de45d77850a9645f.txt\n",
      "Empty line in file: /kaggle/input/medical-image-dataset-brain-tumor-detection/Brain Tumor Detection/train/labels/volume_106_slice_44_jpg.rf.3b0285879b7aac733d1712ef8177d98e.txt\n",
      "Empty line in file: /kaggle/input/medical-image-dataset-brain-tumor-detection/Brain Tumor Detection/train/labels/volume_75_slice_31_jpg.rf.1a499336c8e11824691e1e48e6af3a3c.txt\n",
      "Empty line in file: /kaggle/input/medical-image-dataset-brain-tumor-detection/Brain Tumor Detection/train/labels/volume_178_slice_37_jpg.rf.318352cdba2d98c3986b10362ff228df.txt\n",
      "Empty line in file: /kaggle/input/medical-image-dataset-brain-tumor-detection/Brain Tumor Detection/train/labels/volume_81_slice_74_jpg.rf.0e6fd292529c8de2f2200362c5356e2f.txt\n",
      "Empty line in file: /kaggle/input/medical-image-dataset-brain-tumor-detection/Brain Tumor Detection/train/labels/volume_82_slice_51_jpg.rf.4d0f4fe60d3763c0eac42423c7275b36.txt\n",
      "Empty line in file: /kaggle/input/medical-image-dataset-brain-tumor-detection/Brain Tumor Detection/train/labels/volume_178_slice_30_jpg.rf.193828df9e735798eacc54cc3eb187b3.txt\n",
      "Empty line in file: /kaggle/input/medical-image-dataset-brain-tumor-detection/Brain Tumor Detection/train/labels/volume_330_slice_35_jpg.rf.8266248d2811a4772bdad4ece04c0170.txt\n",
      "Empty line in file: /kaggle/input/medical-image-dataset-brain-tumor-detection/Brain Tumor Detection/train/labels/volume_297_slice_130_jpg.rf.d04c120b4e29e6124077d488e4493807.txt\n",
      "Empty line in file: /kaggle/input/medical-image-dataset-brain-tumor-detection/Brain Tumor Detection/train/labels/volume_146_slice_98_jpg.rf.d974dc84e904ef69bcbe2836d96a0958.txt\n",
      "Empty line in file: /kaggle/input/medical-image-dataset-brain-tumor-detection/Brain Tumor Detection/train/labels/volume_197_slice_51_jpg.rf.bcebaeef01168c39096b54e3db89969d.txt\n",
      "Empty line in file: /kaggle/input/medical-image-dataset-brain-tumor-detection/Brain Tumor Detection/train/labels/volume_114_slice_38_jpg.rf.51c18361c954c495bd632d4706eadfd7.txt\n",
      "Empty line in file: /kaggle/input/medical-image-dataset-brain-tumor-detection/Brain Tumor Detection/train/labels/volume_11_slice_114_jpg.rf.2b15cf2d45b0cb8c07b37dfbcda309b2.txt\n",
      "Empty line in file: /kaggle/input/medical-image-dataset-brain-tumor-detection/Brain Tumor Detection/train/labels/volume_320_slice_121_jpg.rf.738e4aa1dc53a83cf604675bafa7ff63.txt\n",
      "Empty line in file: /kaggle/input/medical-image-dataset-brain-tumor-detection/Brain Tumor Detection/train/labels/volume_286_slice_62_jpg.rf.7d9cca9b3a7f4c8469c473e5dd107dd1.txt\n",
      "Empty line in file: /kaggle/input/medical-image-dataset-brain-tumor-detection/Brain Tumor Detection/train/labels/volume_196_slice_100_jpg.rf.d32d1e0327b97ce2d28e2bcebb8d6020.txt\n",
      "Empty line in file: /kaggle/input/medical-image-dataset-brain-tumor-detection/Brain Tumor Detection/train/labels/volume_37_slice_31_jpg.rf.b0d3ee64bcc5edab1238598c6c65bcb5.txt\n",
      "Empty line in file: /kaggle/input/medical-image-dataset-brain-tumor-detection/Brain Tumor Detection/train/labels/volume_86_slice_70_jpg.rf.dc460f228a36168dcadb375fa8e17605.txt\n",
      "Empty line in file: /kaggle/input/medical-image-dataset-brain-tumor-detection/Brain Tumor Detection/train/labels/volume_103_slice_105_jpg.rf.d4e90385089165ce3abb8b42f46c9634.txt\n",
      "Empty line in file: /kaggle/input/medical-image-dataset-brain-tumor-detection/Brain Tumor Detection/train/labels/volume_82_slice_53_jpg.rf.9b9cb2b7f64aad43328bb42413e71a0d.txt\n",
      "Empty line in file: /kaggle/input/medical-image-dataset-brain-tumor-detection/Brain Tumor Detection/train/labels/volume_278_slice_37_jpg.rf.c8bc61a586becba1098524f1057cd08b.txt\n",
      "Empty line in file: /kaggle/input/medical-image-dataset-brain-tumor-detection/Brain Tumor Detection/train/labels/volume_236_slice_29_jpg.rf.0bfa753298fbbb4b002f5715d79d88f0.txt\n",
      "Empty line in file: /kaggle/input/medical-image-dataset-brain-tumor-detection/Brain Tumor Detection/train/labels/volume_279_slice_57_jpg.rf.90fbfec7437e4aa6c241a896e2b75545.txt\n",
      "Empty line in file: /kaggle/input/medical-image-dataset-brain-tumor-detection/Brain Tumor Detection/train/labels/volume_207_slice_46_jpg.rf.74551c256d8bd70a5b73690cede51f27.txt\n",
      "Empty line in file: /kaggle/input/medical-image-dataset-brain-tumor-detection/Brain Tumor Detection/train/labels/volume_27_slice_103_jpg.rf.79f7ada1a0f5096aa44811ba6ec4da91.txt\n",
      "Empty line in file: /kaggle/input/medical-image-dataset-brain-tumor-detection/Brain Tumor Detection/train/labels/volume_106_slice_38_jpg.rf.35280d61745a3c9c8a982af7e134f05a.txt\n",
      "Empty line in file: /kaggle/input/medical-image-dataset-brain-tumor-detection/Brain Tumor Detection/train/labels/volume_8_slice_72_jpg.rf.6711d62ebe95ff6bdc458f26dd2b1301.txt\n",
      "Empty line in file: /kaggle/input/medical-image-dataset-brain-tumor-detection/Brain Tumor Detection/train/labels/volume_126_slice_56_jpg.rf.314f2b0ed511cbcc4de027ce15579fb3.txt\n",
      "Empty line in file: /kaggle/input/medical-image-dataset-brain-tumor-detection/Brain Tumor Detection/train/labels/volume_106_slice_46_jpg.rf.0e4aa14c62d9ccbcb659972313f930e7.txt\n",
      "Empty line in file: /kaggle/input/medical-image-dataset-brain-tumor-detection/Brain Tumor Detection/train/labels/volume_249_slice_25_jpg.rf.57f579d4b08adf5356c428f2ef50b99a.txt\n",
      "Empty line in file: /kaggle/input/medical-image-dataset-brain-tumor-detection/Brain Tumor Detection/train/labels/volume_334_slice_33_jpg.rf.fd4b061bb0e2579dbf7827c51196ef92.txt\n",
      "Empty line in file: /kaggle/input/medical-image-dataset-brain-tumor-detection/Brain Tumor Detection/train/labels/volume_48_slice_75_jpg.rf.53bca54adf01e60fb6ed1d4ccbd7765d.txt\n",
      "Empty line in file: /kaggle/input/medical-image-dataset-brain-tumor-detection/Brain Tumor Detection/train/labels/volume_156_slice_99_jpg.rf.e0d4b9e1099e5e82068e9dd8d7be5d5a.txt\n",
      "Empty line in file: /kaggle/input/medical-image-dataset-brain-tumor-detection/Brain Tumor Detection/train/labels/volume_245_slice_99_jpg.rf.11820eb0a9816a2cfe1e34b873d83341.txt\n",
      "Empty line in file: /kaggle/input/medical-image-dataset-brain-tumor-detection/Brain Tumor Detection/train/labels/volume_97_slice_44_jpg.rf.34f65763344b7446935da29e04dac94c.txt\n",
      "Empty line in file: /kaggle/input/medical-image-dataset-brain-tumor-detection/Brain Tumor Detection/train/labels/volume_367_slice_112_jpg.rf.ce913e53e60aeba0572e932120c458e5.txt\n",
      "Empty line in file: /kaggle/input/medical-image-dataset-brain-tumor-detection/Brain Tumor Detection/train/labels/volume_346_slice_57_jpg.rf.a6e823ec5f8839240c174ef037bcc288.txt\n",
      "Empty line in file: /kaggle/input/medical-image-dataset-brain-tumor-detection/Brain Tumor Detection/train/labels/volume_48_slice_26_jpg.rf.2dc596352f35b313b1fde664777cca9e.txt\n",
      "Empty line in file: /kaggle/input/medical-image-dataset-brain-tumor-detection/Brain Tumor Detection/train/labels/volume_306_slice_55_jpg.rf.1cf8769ddff837b114a02789c7e30ceb.txt\n",
      "Empty line in file: /kaggle/input/medical-image-dataset-brain-tumor-detection/Brain Tumor Detection/train/labels/volume_346_slice_63_jpg.rf.87c0a7fc70f82510c14fdaf588b0290c.txt\n",
      "Empty line in file: /kaggle/input/medical-image-dataset-brain-tumor-detection/Brain Tumor Detection/train/labels/volume_50_slice_107_jpg.rf.bf9818887a0226ba6cb671a9c1e2b884.txt\n",
      "Empty line in file: /kaggle/input/medical-image-dataset-brain-tumor-detection/Brain Tumor Detection/train/labels/volume_154_slice_74_jpg.rf.e06fb38e68ab19f5013c6ca9d633f504.txt\n",
      "Empty line in file: /kaggle/input/medical-image-dataset-brain-tumor-detection/Brain Tumor Detection/train/labels/volume_22_slice_61_jpg.rf.2cb31523945466756f67300a29a5f195.txt\n",
      "Empty line in file: /kaggle/input/medical-image-dataset-brain-tumor-detection/Brain Tumor Detection/train/labels/volume_244_slice_121_jpg.rf.6ff1538689cc9023d1679d1e4ce21ecd.txt\n",
      "Empty line in file: /kaggle/input/medical-image-dataset-brain-tumor-detection/Brain Tumor Detection/train/labels/volume_49_slice_52_jpg.rf.fa4e06b5e7fc7ce0c27e2042ec5b4594.txt\n",
      "Empty line in file: /kaggle/input/medical-image-dataset-brain-tumor-detection/Brain Tumor Detection/train/labels/volume_95_slice_135_jpg.rf.8dd24827621d26834ec28993103f4300.txt\n",
      "Empty line in file: /kaggle/input/medical-image-dataset-brain-tumor-detection/Brain Tumor Detection/train/labels/volume_346_slice_56_jpg.rf.819827a05eddc3a4c1452a124b423d23.txt\n",
      "Empty line in file: /kaggle/input/medical-image-dataset-brain-tumor-detection/Brain Tumor Detection/train/labels/volume_291_slice_125_jpg.rf.40ee220710dc650bedfc2bf7f7ebede4.txt\n",
      "Empty line in file: /kaggle/input/medical-image-dataset-brain-tumor-detection/Brain Tumor Detection/train/labels/volume_110_slice_53_jpg.rf.4b40a8bb7b5c3cf0967d9c07b3f69057.txt\n",
      "Empty line in file: /kaggle/input/medical-image-dataset-brain-tumor-detection/Brain Tumor Detection/train/labels/volume_278_slice_108_jpg.rf.fbac0f1381ee2e5c32ef2af00711b5fc.txt\n",
      "Empty line in file: /kaggle/input/medical-image-dataset-brain-tumor-detection/Brain Tumor Detection/train/labels/volume_269_slice_70_jpg.rf.c9112edc97963664360033299acbdf40.txt\n",
      "Empty line in file: /kaggle/input/medical-image-dataset-brain-tumor-detection/Brain Tumor Detection/train/labels/volume_94_slice_90_jpg.rf.2dde849a5c6b4ae464c5cafd0e41114d.txt\n",
      "Empty line in file: /kaggle/input/medical-image-dataset-brain-tumor-detection/Brain Tumor Detection/train/labels/volume_22_slice_59_jpg.rf.0c47e428da275061c12fd892ea6698be.txt\n",
      "Empty line in file: /kaggle/input/medical-image-dataset-brain-tumor-detection/Brain Tumor Detection/train/labels/volume_63_slice_56_jpg.rf.ad1fed10850b8f1fb33dcde764b77012.txt\n",
      "Empty line in file: /kaggle/input/medical-image-dataset-brain-tumor-detection/Brain Tumor Detection/train/labels/volume_106_slice_42_jpg.rf.9c61af52fbf9819617326395a3188620.txt\n",
      "Empty line in file: /kaggle/input/medical-image-dataset-brain-tumor-detection/Brain Tumor Detection/train/labels/volume_26_slice_31_jpg.rf.ba16a124ecf9e639489885f6ca5a10ca.txt\n",
      "Empty line in file: /kaggle/input/medical-image-dataset-brain-tumor-detection/Brain Tumor Detection/train/labels/volume_234_slice_29_jpg.rf.08500a714f3e809079d8185540864c32.txt\n",
      "Empty line in file: /kaggle/input/medical-image-dataset-brain-tumor-detection/Brain Tumor Detection/train/labels/volume_142_slice_87_jpg.rf.7ff60ed9145d23ded877f35f43c44127.txt\n",
      "Empty line in file: /kaggle/input/medical-image-dataset-brain-tumor-detection/Brain Tumor Detection/train/labels/volume_110_slice_46_jpg.rf.e28127cb2990920434fef709be5c1970.txt\n"
     ]
    }
   ],
   "source": [
    "def load_data(data_dir):\n",
    "    images = []\n",
    "    labels = []\n",
    "\n",
    "    for filename in os.listdir(os.path.join(data_dir, \"images\")):\n",
    "        if filename.endswith('.jpg'):\n",
    "            img_path = os.path.join(data_dir, \"images\", filename)\n",
    "            label_path = os.path.join(data_dir, \"labels\", filename.replace('.jpg', '.txt'))\n",
    "\n",
    "#             print(f\"Processing {filename}...\")  # Print filename for debugging\n",
    "\n",
    "            if os.path.isfile(label_path):\n",
    "                with open(label_path, 'r') as label_file:\n",
    "                    line = label_file.readline().strip()\n",
    "\n",
    "                    if not line:\n",
    "                        print(f\"Empty line in file: {label_path}\")\n",
    "                        continue\n",
    "\n",
    "                    try:\n",
    "                        label = int(line.split()[0])\n",
    "                        labels.append(label)\n",
    "                    except (ValueError, IndexError) as e:\n",
    "                        print(f\"Error processing line in file {label_path}: {line}\")\n",
    "                        print(f\"Error details: {e}\")\n",
    "\n",
    "                # Resize the image to the expected input shape (224, 224)\n",
    "                img = cv2.imread(img_path)\n",
    "                img = cv2.resize(img, (224, 224))\n",
    "                images.append(img)\n",
    "\n",
    "    return np.array(images), np.array(labels)\n",
    "\n",
    "\n",
    "# Specify your dataset directory\n",
    "dataset_dir = '/kaggle/input/medical-image-dataset-brain-tumor-detection/Brain Tumor Detection/train'\n",
    "\n",
    "# Load the data\n",
    "images, labels = load_data(dataset_dir)"
   ]
  },
  {
   "cell_type": "markdown",
   "id": "ef85f482",
   "metadata": {
    "papermill": {
     "duration": 0.009194,
     "end_time": "2024-04-16T17:11:16.200197",
     "exception": false,
     "start_time": "2024-04-16T17:11:16.191003",
     "status": "completed"
    },
    "tags": []
   },
   "source": [
    "# Split the dataset into training and testing sets"
   ]
  },
  {
   "cell_type": "code",
   "execution_count": 3,
   "id": "a20d771b",
   "metadata": {
    "execution": {
     "iopub.execute_input": "2024-04-16T17:11:16.219872Z",
     "iopub.status.busy": "2024-04-16T17:11:16.219565Z",
     "iopub.status.idle": "2024-04-16T17:11:16.447325Z",
     "shell.execute_reply": "2024-04-16T17:11:16.446540Z"
    },
    "papermill": {
     "duration": 0.240163,
     "end_time": "2024-04-16T17:11:16.449582",
     "exception": false,
     "start_time": "2024-04-16T17:11:16.209419",
     "status": "completed"
    },
    "tags": []
   },
   "outputs": [],
   "source": [
    "X_train, X_test, y_train, y_test = train_test_split(images, labels, test_size=0.2, random_state=42)"
   ]
  },
  {
   "cell_type": "markdown",
   "id": "03bf6a4d",
   "metadata": {
    "papermill": {
     "duration": 0.009105,
     "end_time": "2024-04-16T17:11:16.468247",
     "exception": false,
     "start_time": "2024-04-16T17:11:16.459142",
     "status": "completed"
    },
    "tags": []
   },
   "source": [
    "# sorted labels and categories"
   ]
  },
  {
   "cell_type": "code",
   "execution_count": 4,
   "id": "286e7837",
   "metadata": {
    "execution": {
     "iopub.execute_input": "2024-04-16T17:11:16.488721Z",
     "iopub.status.busy": "2024-04-16T17:11:16.488412Z",
     "iopub.status.idle": "2024-04-16T17:11:16.495265Z",
     "shell.execute_reply": "2024-04-16T17:11:16.494458Z"
    },
    "papermill": {
     "duration": 0.019772,
     "end_time": "2024-04-16T17:11:16.497181",
     "exception": false,
     "start_time": "2024-04-16T17:11:16.477409",
     "status": "completed"
    },
    "tags": []
   },
   "outputs": [],
   "source": [
    "# Ensure labels start from 0\n",
    "min_label = np.min(y_train)\n",
    "y_train = y_train - min_label\n",
    "y_test = y_test - min_label\n",
    "\n",
    "# Count the number of unique labels\n",
    "num_classes = len(np.unique(y_train))\n",
    "\n",
    "# Convert labels to categorical format\n",
    "y_train_categorical = to_categorical(y_train, num_classes=num_classes)\n",
    "y_test_categorical = to_categorical(y_test, num_classes=num_classes)"
   ]
  },
  {
   "cell_type": "markdown",
   "id": "7b6028a7",
   "metadata": {
    "papermill": {
     "duration": 0.009047,
     "end_time": "2024-04-16T17:11:16.515380",
     "exception": false,
     "start_time": "2024-04-16T17:11:16.506333",
     "status": "completed"
    },
    "tags": []
   },
   "source": [
    "# build model"
   ]
  },
  {
   "cell_type": "code",
   "execution_count": 5,
   "id": "8512de3b",
   "metadata": {
    "execution": {
     "iopub.execute_input": "2024-04-16T17:11:16.534883Z",
     "iopub.status.busy": "2024-04-16T17:11:16.534610Z",
     "iopub.status.idle": "2024-04-16T17:20:00.233783Z",
     "shell.execute_reply": "2024-04-16T17:20:00.232805Z"
    },
    "papermill": {
     "duration": 523.711257,
     "end_time": "2024-04-16T17:20:00.235902",
     "exception": false,
     "start_time": "2024-04-16T17:11:16.524645",
     "status": "completed"
    },
    "tags": []
   },
   "outputs": [
    {
     "name": "stdout",
     "output_type": "stream",
     "text": [
      "Downloading data from https://storage.googleapis.com/tensorflow/keras-applications/resnet/resnet50_weights_tf_dim_ordering_tf_kernels_notop.h5\n",
      "94765736/94765736 [==============================] - 0s 0us/step\n",
      "Epoch 1/15\n",
      "172/172 [==============================] - 73s 200ms/step - loss: 1.5174 - accuracy: 0.6115 - val_loss: 1.2368 - val_accuracy: 0.6280\n",
      "Epoch 2/15\n",
      "172/172 [==============================] - 31s 183ms/step - loss: 0.6343 - accuracy: 0.6595 - val_loss: 0.9470 - val_accuracy: 0.6193\n",
      "Epoch 3/15\n",
      "172/172 [==============================] - 31s 183ms/step - loss: 0.5626 - accuracy: 0.7219 - val_loss: 0.5321 - val_accuracy: 0.7600\n",
      "Epoch 4/15\n",
      "172/172 [==============================] - 31s 182ms/step - loss: 0.4945 - accuracy: 0.7710 - val_loss: 0.8905 - val_accuracy: 0.6156\n",
      "Epoch 5/15\n",
      "172/172 [==============================] - 31s 182ms/step - loss: 0.4439 - accuracy: 0.8022 - val_loss: 0.9062 - val_accuracy: 0.3931\n",
      "Epoch 6/15\n",
      "172/172 [==============================] - 31s 183ms/step - loss: 0.5045 - accuracy: 0.7695 - val_loss: 3.3419 - val_accuracy: 0.6484\n",
      "Epoch 7/15\n",
      "172/172 [==============================] - 31s 183ms/step - loss: 0.3587 - accuracy: 0.8536 - val_loss: 0.7326 - val_accuracy: 0.6681\n",
      "Epoch 8/15\n",
      "172/172 [==============================] - 31s 183ms/step - loss: 0.3097 - accuracy: 0.8796 - val_loss: 0.7491 - val_accuracy: 0.7418\n",
      "Epoch 9/15\n",
      "172/172 [==============================] - 31s 183ms/step - loss: 0.2921 - accuracy: 0.8865 - val_loss: 1.0519 - val_accuracy: 0.6623\n",
      "Epoch 10/15\n",
      "172/172 [==============================] - 32s 183ms/step - loss: 0.2877 - accuracy: 0.8922 - val_loss: 0.6041 - val_accuracy: 0.7389\n",
      "Epoch 11/15\n",
      "172/172 [==============================] - 31s 183ms/step - loss: 0.2419 - accuracy: 0.9086 - val_loss: 1.8669 - val_accuracy: 0.7287\n",
      "Epoch 12/15\n",
      "172/172 [==============================] - 31s 183ms/step - loss: 0.2024 - accuracy: 0.9292 - val_loss: 0.5156 - val_accuracy: 0.7710\n",
      "Epoch 13/15\n",
      "172/172 [==============================] - 32s 183ms/step - loss: 0.1741 - accuracy: 0.9411 - val_loss: 0.6547 - val_accuracy: 0.7724\n",
      "Epoch 14/15\n",
      "172/172 [==============================] - 31s 183ms/step - loss: 0.1443 - accuracy: 0.9500 - val_loss: 0.4999 - val_accuracy: 0.8271\n",
      "Epoch 15/15\n",
      "172/172 [==============================] - 32s 183ms/step - loss: 0.1871 - accuracy: 0.9338 - val_loss: 0.9853 - val_accuracy: 0.7396\n",
      "43/43 [==============================] - 2s 55ms/step - loss: 0.9853 - accuracy: 0.7396\n",
      "Test Accuracy: 0.7396061420440674\n"
     ]
    }
   ],
   "source": [
    "# Load the pre-trained ResNet50 model without the top layer\n",
    "base_model = ResNet50(weights='imagenet', include_top=False, input_shape=(224, 224, 3))\n",
    "\n",
    "# Add custom layers for classification\n",
    "x = base_model.output\n",
    "x = Flatten()(x)\n",
    "x = Dense(512, activation='relu')(x)\n",
    "x = Dropout(0.5)(x)\n",
    "x = Dense(256, activation='relu')(x)  # Additional Dense Layer\n",
    "x = Dropout(0.5)(x)\n",
    "output = Dense(num_classes, activation='softmax')(x)\n",
    "\n",
    "# Create the final model\n",
    "model = Model(inputs=base_model.input, outputs=output)\n",
    "\n",
    "# Compile the model\n",
    "model.compile(optimizer=Adam(), loss='categorical_crossentropy', metrics=['accuracy'])\n",
    "\n",
    "# Train the model  (extra layer of 256)\n",
    "model.fit(X_train, y_train_categorical, epochs=15, batch_size=32, validation_data=(X_test, y_test_categorical))\n",
    "\n",
    "# Evaluate the model on the test set\n",
    "accuracy = model.evaluate(X_test, y_test_categorical)[1]\n",
    "print(f'Test Accuracy: {accuracy}')"
   ]
  },
  {
   "cell_type": "code",
   "execution_count": 6,
   "id": "ded25c23",
   "metadata": {
    "execution": {
     "iopub.execute_input": "2024-04-16T17:20:00.686505Z",
     "iopub.status.busy": "2024-04-16T17:20:00.685668Z",
     "iopub.status.idle": "2024-04-16T17:21:36.387851Z",
     "shell.execute_reply": "2024-04-16T17:21:36.386841Z"
    },
    "papermill": {
     "duration": 95.924762,
     "end_time": "2024-04-16T17:21:36.389847",
     "exception": false,
     "start_time": "2024-04-16T17:20:00.465085",
     "status": "completed"
    },
    "tags": []
   },
   "outputs": [
    {
     "name": "stdout",
     "output_type": "stream",
     "text": [
      "Epoch 1/15\n",
      "137/137 [==============================] - 11s 52ms/step - loss: 0.6915 - accuracy: 0.6061 - val_loss: 0.7331 - val_accuracy: 0.6086\n",
      "Epoch 2/15\n",
      "137/137 [==============================] - 5s 36ms/step - loss: 0.6683 - accuracy: 0.6380 - val_loss: 0.8922 - val_accuracy: 0.6040\n",
      "Epoch 3/15\n",
      "137/137 [==============================] - 5s 36ms/step - loss: 0.6474 - accuracy: 0.6332 - val_loss: 0.6716 - val_accuracy: 0.6241\n",
      "Epoch 4/15\n",
      "137/137 [==============================] - 5s 36ms/step - loss: 0.6255 - accuracy: 0.6693 - val_loss: 0.6842 - val_accuracy: 0.6195\n",
      "Epoch 5/15\n",
      "137/137 [==============================] - 5s 36ms/step - loss: 0.6219 - accuracy: 0.6635 - val_loss: 0.6639 - val_accuracy: 0.6496\n",
      "Epoch 6/15\n",
      "137/137 [==============================] - 5s 36ms/step - loss: 0.6005 - accuracy: 0.6816 - val_loss: 0.7279 - val_accuracy: 0.6451\n",
      "Epoch 7/15\n",
      "137/137 [==============================] - 5s 36ms/step - loss: 0.5916 - accuracy: 0.6880 - val_loss: 0.7842 - val_accuracy: 0.6679\n",
      "Epoch 8/15\n",
      "137/137 [==============================] - 5s 36ms/step - loss: 0.5788 - accuracy: 0.7005 - val_loss: 0.6689 - val_accuracy: 0.6861\n",
      "Epoch 9/15\n",
      "137/137 [==============================] - 5s 36ms/step - loss: 0.5513 - accuracy: 0.7215 - val_loss: 0.8868 - val_accuracy: 0.6943\n",
      "Epoch 10/15\n",
      "137/137 [==============================] - 5s 36ms/step - loss: 0.5257 - accuracy: 0.7441 - val_loss: 0.7096 - val_accuracy: 0.7035\n",
      "Epoch 11/15\n",
      "137/137 [==============================] - 5s 36ms/step - loss: 0.4939 - accuracy: 0.7662 - val_loss: 0.7096 - val_accuracy: 0.6989\n",
      "Epoch 12/15\n",
      "137/137 [==============================] - 5s 36ms/step - loss: 0.4504 - accuracy: 0.7938 - val_loss: 0.6714 - val_accuracy: 0.7254\n",
      "Epoch 13/15\n",
      "137/137 [==============================] - 5s 36ms/step - loss: 0.4056 - accuracy: 0.8180 - val_loss: 0.6546 - val_accuracy: 0.7372\n",
      "Epoch 14/15\n",
      "137/137 [==============================] - 5s 36ms/step - loss: 0.3559 - accuracy: 0.8442 - val_loss: 0.7377 - val_accuracy: 0.7436\n",
      "Epoch 15/15\n",
      "137/137 [==============================] - 5s 36ms/step - loss: 0.3492 - accuracy: 0.8474 - val_loss: 0.6999 - val_accuracy: 0.7363\n",
      "43/43 [==============================] - 1s 20ms/step - loss: 1.2388 - accuracy: 0.7513\n",
      "Test Loss: 1.238843560218811, Test Accuracy: 0.751276433467865\n"
     ]
    }
   ],
   "source": [
    "# Preprocess the data (e.g., normalization)\n",
    "X_train = X_train / 255.0\n",
    "X_test = X_test / 255.0\n",
    "\n",
    "# Ensure labels start from 0\n",
    "min_label = np.min(y_train)\n",
    "y_train = y_train - min_label\n",
    "y_test = y_test - min_label\n",
    "\n",
    "# Count the number of unique labels\n",
    "num_classes = len(np.unique(y_train))\n",
    "\n",
    "# Convert labels to categorical format\n",
    "y_train_categorical = to_categorical(y_train, num_classes=num_classes)\n",
    "y_test_categorical = to_categorical(y_test, num_classes=num_classes)\n",
    "\n",
    "# Split the data into training and validation sets\n",
    "X_train, X_val, y_train_encoded, y_val_encoded = train_test_split(X_train, y_train_categorical, test_size=0.2, random_state=42)\n",
    "\n",
    "# Define the model\n",
    "model = Sequential()\n",
    "model.add(Conv2D(32, (3, 3), activation='relu', input_shape=(224, 224, 3)))\n",
    "model.add(MaxPooling2D((2, 2)))\n",
    "model.add(Conv2D(64, (3, 3), activation='relu'))\n",
    "model.add(MaxPooling2D((2, 2)))\n",
    "model.add(Conv2D(128, (3, 3), activation='relu'))\n",
    "model.add(MaxPooling2D((2, 2)))\n",
    "model.add(Conv2D(256, (3, 3), activation='relu'))\n",
    "model.add(MaxPooling2D((2, 2)))\n",
    "model.add(Conv2D(512, (3, 3), activation='relu'))\n",
    "model.add(MaxPooling2D((2, 2)))\n",
    "model.add(Flatten())\n",
    "model.add(Dense(512, activation='relu'))\n",
    "model.add(Dropout(0.5))\n",
    "model.add(Dense(256, activation='relu'))  # Additional Dense Layer\n",
    "model.add(Dropout(0.5))\n",
    "model.add(Dense(num_classes, activation='softmax'))\n",
    "\n",
    "# Compile the model\n",
    "model.compile(optimizer='adam', loss='categorical_crossentropy', metrics=['accuracy'])\n",
    "\n",
    "# Train the model\n",
    "model.fit(X_train, y_train_encoded, epochs=15, batch_size=32, validation_data=(X_val, y_val_encoded))\n",
    "\n",
    "# Evaluate the model on the test set\n",
    "test_loss, test_accuracy = model.evaluate(X_test, y_test_categorical)\n",
    "print(f'Test Loss: {test_loss}, Test Accuracy: {test_accuracy}')"
   ]
  },
  {
   "cell_type": "code",
   "execution_count": 7,
   "id": "8b4b1730",
   "metadata": {
    "execution": {
     "iopub.execute_input": "2024-04-16T17:21:37.040984Z",
     "iopub.status.busy": "2024-04-16T17:21:37.040578Z",
     "iopub.status.idle": "2024-04-16T17:21:37.337266Z",
     "shell.execute_reply": "2024-04-16T17:21:37.336445Z"
    },
    "papermill": {
     "duration": 0.599056,
     "end_time": "2024-04-16T17:21:37.339516",
     "exception": false,
     "start_time": "2024-04-16T17:21:36.740460",
     "status": "completed"
    },
    "tags": []
   },
   "outputs": [],
   "source": [
    "#save keras model\n",
    "model.save(r'model_512_256_epoch15.keras')"
   ]
  },
  {
   "cell_type": "code",
   "execution_count": null,
   "id": "64a5bf98",
   "metadata": {
    "papermill": {
     "duration": 0.301318,
     "end_time": "2024-04-16T17:21:39.226089",
     "exception": false,
     "start_time": "2024-04-16T17:21:38.924771",
     "status": "completed"
    },
    "tags": []
   },
   "outputs": [],
   "source": []
  }
 ],
 "metadata": {
  "kaggle": {
   "accelerator": "gpu",
   "dataSources": [
    {
     "datasetId": 4327413,
     "sourceId": 7435625,
     "sourceType": "datasetVersion"
    }
   ],
   "dockerImageVersionId": 30636,
   "isGpuEnabled": true,
   "isInternetEnabled": true,
   "language": "python",
   "sourceType": "notebook"
  },
  "kernelspec": {
   "display_name": "Python 3 (ipykernel)",
   "language": "python",
   "name": "python3"
  },
  "language_info": {
   "codemirror_mode": {
    "name": "ipython",
    "version": 3
   },
   "file_extension": ".py",
   "mimetype": "text/x-python",
   "name": "python",
   "nbconvert_exporter": "python",
   "pygments_lexer": "ipython3",
   "version": "3.9.13"
  },
  "papermill": {
   "default_parameters": {},
   "duration": 766.814603,
   "end_time": "2024-04-16T17:21:42.591944",
   "environment_variables": {},
   "exception": null,
   "input_path": "__notebook__.ipynb",
   "output_path": "__notebook__.ipynb",
   "parameters": {},
   "start_time": "2024-04-16T17:08:55.777341",
   "version": "2.4.0"
  },
  "toc": {
   "base_numbering": 1,
   "nav_menu": {},
   "number_sections": true,
   "sideBar": true,
   "skip_h1_title": false,
   "title_cell": "Table of Contents",
   "title_sidebar": "Contents",
   "toc_cell": false,
   "toc_position": {},
   "toc_section_display": true,
   "toc_window_display": false
  }
 },
 "nbformat": 4,
 "nbformat_minor": 5
}
